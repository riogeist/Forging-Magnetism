{
 "cells": [
  {
   "cell_type": "markdown",
   "metadata": {},
   "source": [
    "# Magnetism By Fire: How Temperature Affects Magnetism"
   ]
  },
  {
   "cell_type": "markdown",
   "metadata": {},
   "source": [
    "### Notebook Outline\n",
    "* [Introduction](#intro)\n",
    "* [Mathematical Model](#mm)\n",
    "* [Numerical Methods](#nm)\n",
    "* [Results](#res)\n",
    "* [Analysis](#anly)\n",
    "* [Summary](#sum)\n",
    "* [References](#reference)"
   ]
  },
  {
   "cell_type": "markdown",
   "metadata": {},
   "source": [
    "## Introduction <a id='intro'></a>\n",
    "\n",
    "This project is an exploration of how ferromagnetic materials magnetic properties are influenced by high temperatures. The fundamental physics necessary to investigate this question is an understanding of ferromagnetism, phase transitions, and magnetism, specifically magnetic moments. This introduction will consist of three topics: explaining magnetic moments; the Ising model; and introducing the properties of ferromagnetic materials.\n",
    "\n",
    "#### Sections:\n",
    "* [Magnetic Moment](#magMom)\n",
    "* [Ising Model](#isingModel)\n",
    "* [Ferromagnetism](#ferromag)"
   ]
  },
  {
   "cell_type": "markdown",
   "metadata": {},
   "source": [
    "#### Magnetic Moment<a id='magMom'></a>\n",
    "The magnetic moment, denoted by the Greek letter $\\mu$, is a vector quantity that represents the measure of an \n",
    "object’s tendency to interact with an external magnetic field. Examples of vector quantities include displacement, \n",
    "velocity, acceleration, force, and momentum. When working with magnetic moments, the body being described is usually a \n",
    "particle of quantum sizes, such as a molecule, atom, nucleus, or other subatomic particles.\n",
    "\n",
    "The intrinsic magnetic properties of the body are usually represented by an arrow originating from a tiny bar magnet with \n",
    "north and south poles. These north and south poles can be likened to opposite electrical charges (for example, north as \n",
    "positive and south as negative) so that we can call these dipoles, as a dipole is a separation of opposite electrical \n",
    "charges. Due to this, the magnetic moment is also called the magnetic dipole moment [1].\n",
    "\n",
    "A quantitative definition of $\\mu$ is to create a model where $\\mu$ is generated from an electrical current, represented by \n",
    "the letter i, traveling on the edge of a loop of cross-sectional area, A. The magnetic dipole moment $\\mu$ is a vector \n",
    "defined as the cross product of the current, i, and the cross-sectional area, A, such that $\\vec{\\mu} = \\vec{i} \\times \n",
    "\\vec{A}$.\n",
    "\n",
    "The magnetic moment was defined as a vector quantity that represents the measure of an object’s tendency to interact with \n",
    "an external magnetic field, $B_0$. When an object with some $\\mu$ is put inside an external magnetic field, $B_0$, $\\mu$ \n",
    "will seek to align with $B_0$, just as a compass aligns with the external magnetic field of the Earth. When $\\mu$ and $B_0$ \n",
    "are parallel, the object does not move in the magnetic field. However, when $\\mu$ and $B_0$ are not aligned, the object \n",
    "will swing to align with $B_0$, as we just discussed. This swing is called torque, represented by the greek letter $\\tau$.\n",
    "\n",
    "The torque is a vector defined as the cross product of the magnetic moment and the external magnetic field, such that \n",
    "$\\vec{\\tau} = \\vec{\\mu} \\times \\vec{B_0}$ From this equation, we can see that in the case above, where $\\mu$ and Bo are \n",
    "parallel, $\\tau$ = 0, therefore the object will experience no torque, and $\\mu$ will be in its lowest energy state as no \n",
    "energy is required to maintain the orientation of the object in the magnetic field. In the case where $\\mu$ and Bo are \n",
    "antiparallel, $\\mu$ will be in the highest energy state available as energy would be required for the object’s orientation \n",
    "to be maintained. This energy, $E$, can be expressed as the dot product of the magnetic moment and the external magnetic \n",
    "field, such that $\\vec{E} = - \\vec{\\mu} {\\cdotp} \\vec{B_0}$, where the negative term arises as in our parallel case, we \n",
    "want E to be a low value to represent that $\\mu$ is in its lowest energy state [2].\n",
    "\n",
    "The understanding of magnetic moments is crucial for understanding the magnetic properties of ferromagnetic materials. \n",
    "Below we will discuss how to model these magnetic moments in a simple case to show phase transitions due to temperature \n",
    "using the Ising model. The Ising model is a mathematical model of ferromagnetism in statistical mechanics (statistical \n",
    "mechanics is defined by the Oxford dictionary as “the description of physical phenomena in terms of a statistical treatment \n",
    "of the behavior of large numbers of atoms or molecules, especially with regard to the distribution of energy among them.” \n",
    "Statistical mechanics is necessary for the fundamental study of any physical system that has many degrees of freedom [6]). \n",
    "Created by the German physicist Ernst Ising, the Ising model doesn't correspond to an actual physical system. The model is \n",
    "a lattice of sites, where a site can exist in one of two states: -1 or +1 [3]. For this project, I will be using a square \n",
    "lattice in two dimensions. In principle, the model can be defined for any lattice in any number of dimensions. Each site in \n",
    "the lattice is labeled with index i,j. If we want to say that the i’th,j’th site is in the state +1, this is denoted by \n",
    "$i,j= +1$."
   ]
  },
  {
   "cell_type": "markdown",
   "metadata": {},
   "source": [
    "#### Ising Model<a id='isingModel'></a>\n",
    "The Ising model can represent many physical systems: magnets, alloys, and gases are three examples of possible physical \n",
    "systems. For this project, the Ising model will be used as a theoretical model of a magnet. The magnetization of a magnetic \n",
    "material is made up of the combination of many small magnetic dipoles spread throughout the material. If these dipoles \n",
    "point in random directions then the overall magnetization of the system will be close to zero, but if they line up so that \n",
    "all or most of them point in the same direction then the system can acquire a macroscopic magnetic moment-it becomes \n",
    "magnetized [4].\n",
    "\n",
    "The magnetic moments are arranged in the lattice, allowing each $\\mu$ to interact with neighboring sites in the lattice. \n",
    "Neighboring magnetic moments that point in the same direction (+1 and +1, -1 and -1) have lower energy than those that \n",
    "disagree (+1 and -1), due to parallel magnetic moments not requiring any energy to remain oriented in their original \n",
    "direction, while magnetic moments which have opposite orientations will experience a torque, as the neighboring µ will \n",
    "exert a magnetic force upon the other $\\mu$. The system will tend towards the lowest energy states, as it requires an \n",
    "inputted energy to keep magnetic moments unaligned, and without this energy, the magnetic moments will align [9].\n",
    "\n",
    "The tendency towards the lowest energy state can be disrupted by thermal energy added to the system. This disruption \n",
    "creates the possibility of different structural phases. The Ising model allows the identification of phase transitions as \n",
    "the amount of thermal energy in the system changes. These phase transitions only occur in Ising models which are higher \n",
    "than 1 dimensional. When the thermal energy in the system is high, the system is disordered. For lower thermal energies, \n",
    "the system becomes ordered and is said to exhibit ferromagnetic order (a discussion of ferromagnetism follows this \n",
    "paragraph). The transition from ordered to disordered is what the Ising model will be used to analyze [5]."
   ]
  },
  {
   "cell_type": "markdown",
   "metadata": {},
   "source": [
    "#### Ferromagnetism<a id='ferromag'></a>\n",
    "Above, we read that for a system with low thermal energies, the system is said to exhibit ferromagnetic order. \n",
    "Ferromagnetic order is a description of the magnetic moments in a lattice, where the magnetic moments are aligned parallel \n",
    "to other magnetic moments in neighboring sites. This behavior of magnetic moments aligning is what distinguishes \n",
    "ferromagnetic materials from other materials which exhibit different forms of magnetism, such as paramagnetism, \n",
    "diamagnetism, and antiferromagnetism [10].\n",
    "\n",
    "For a material to be ferromagnetic, the material is defined to have “a high susceptibility to magnetization, the strength \n",
    "of which depends on that of the applied magnetizing field, and which may persist after removal of the applied field [6].” \n",
    "Ferromagnetism is displayed by iron and is characterized by the atoms comprising the iron to be magnetically aligned.\n",
    "\n",
    "At the atomic level of iron, or any ferromagnetic material, there are multiple regions in the material which have differing \n",
    "alignments. Each one of these regions is comprised of atoms, but the atoms’ magnetic moments only display ferromagnetic \n",
    "order within their respective regions. These regions are called domains.\n",
    "\n",
    "Within the domain, the net magnetic field of the domain points in some direction such that each individual domain has a net \n",
    "$\\mu$ which is comprised of each residential atoms magnetic moments. A bulk sample of ferromagnetic material will usually \n",
    "be unmagnetized as the net magnetic moments of the domains comprising the sample will be randomly oriented with respect to \n",
    "one another. However, if the sample is exposed to an externally imposed magnetic field, this can cause the magnetic moments \n",
    "of the sample’s domains to aline with the external magnetic field, resulting in the net µ of each domain pointing in the \n",
    "same direction. This creates an overall net magnetic moment for the sample of ferromagnetic material and results in the \n",
    "sample being magnetized, even after the removal of the external magnetic field [7].\n",
    "\n",
    "Using the Ising model to represent a sample of ferromagnetic material, we can explore how changing the amount of thermal \n",
    "energy in the system (the ferromagnetic material sample) affects the order of the system."
   ]
  },
  {
   "cell_type": "markdown",
   "metadata": {},
   "source": [
    "## Mathematical Model <a id='mm'></a>\n",
    "This project will be using two models. The first model is the equation $M = \\mu \\tanh(\\frac{JM}{k_BT})$ $[eq.1]$, which \n",
    "will be used to plot the strength of the magnetization of the ferromagnetic material as the temperature changes. The second \n",
    "model is the Ising model, which will be used to simulate a representative lattice using the equation $H(\\sigma) = -\n",
    "J\\displaystyle\\sum_{<i,j>} s_is_j$ $[eq.2]$ to find the energy of the system and the equation $M = \\frac{1}\n",
    "{N}\\displaystyle\\sum_{i=1}^{N}\\sigma_i$ $[eq.3]$ to calculate the magnetization of the system.\n",
    "\n",
    "#### $\\underline{Model 1}$ \n",
    "\n",
    "Equation 1 has five variables:\n",
    "* M is the strength of magnetization ($\\frac{A}{m}$)\n",
    "* $\\mu$ is the magnetic moment ($A*m^{2}$ or $\\frac{J}{Tesla}$)\n",
    "* J is a coupling constant (Hz)\n",
    "* $k_B = 1.38064852 × 10^{-23} m^{2} kg s^{-2} K^{-1}$ is Boltzmann’s constant\n",
    "* T is the temperature (K)\n",
    "\n",
    "Using equation 1, we can create new variables m and C, such that...\n",
    "\n",
    "$m = \\frac{M}{\\mu}$ $[eq.4]$\n",
    "\n",
    "$C = \\frac{\\vec{\\mu}J}{k_B}$ $[eq.5]$\n",
    "\n",
    "Plugging equations 4 and 5 into equation 1, we get $m = \\tanh{\\frac{Cm}{T}}$, which will be our model used in our analysis.\n",
    "\n",
    "#### $\\underline{Model 2}$  \n",
    "\n",
    "Equation 2 has four variables:\n",
    "* J is a constant specifying the strength of interaction\n",
    "* $\\sigma$ is a spin configuration\n",
    "* i is a site in a lattice\n",
    "* j is a neighboring site in a lattice \n",
    "* $H(\\sigma)$ is the function that gives the energy of a configuration $\\sigma$ [8].\n",
    "\n",
    "Equation 3 has four variables:\n",
    "* M is the magnetization of $\\sigma$\n",
    "* $\\sigma$ is a spin configuration\n",
    "* i is a site in $\\sigma$\n",
    "* N is the number of sites in $\\sigma$"
   ]
  },
  {
   "cell_type": "markdown",
   "metadata": {},
   "source": [
    "## Numerical Methods <a id='nm'></a>"
   ]
  },
  {
   "cell_type": "markdown",
   "metadata": {},
   "source": [
    "In this project, I will be using two numerical methods for my models above. For model 1, I will be using the relaxation \n",
    "method to solve the equation for different solutions (where a solution for the equation is always at $m = 0$) [4]. The \n",
    "relaxation method requires the equation to be iterated until a specified tolerance is reached. This will be done for all \n",
    "values of T over some range to find corresponding values of m. One problem with this method is that the \n",
    "method will only find one solution, even if two exist. Boundary conditions for this model are when M is maximized for the \n",
    "ferromagnetic solution, and when M is equal to 0, such that $0<m<max$ . Another condition for the equation is $T \\neq 0K$, \n",
    "as we would receive an error for dividing by zero. For this reason, T will be initialized as $T = 0.01K$.\n",
    "\n",
    "For model 2, I will be using a Monte Carlo simulation to simulate the Ising model. A Monte Carlo simulation is the name \n",
    "given to any computer simulation that uses random numbers to simulate a random physical process in order to estimate \n",
    "something about the outcome of that process [4]. The simulation conditions are that there are only two possible states for \n",
    "a site in the simulation to have: +1 or -1. To test for accuracy of this model, the simulation should show ferromagnetic \n",
    "order at low temperatures and display a phase transition to disorder at higher temperatures.\n",
    "\n",
    "The functions used in this project are detailed below."
   ]
  },
  {
   "cell_type": "code",
   "execution_count": null,
   "metadata": {},
   "outputs": [],
   "source": [
    "def createLattice(rows, cols):\n",
    "    '''function that returns an array of dimensions rows by columns, \n",
    "    where each site in array is filled with integer 1'''\n",
    "    \n",
    "    return np.ones((rows, cols))"
   ]
  },
  {
   "cell_type": "code",
   "execution_count": null,
   "metadata": {},
   "outputs": [],
   "source": [
    "def initializeLattice(spin_array,size):\n",
    "    '''\n",
    "    Summary: initializes an inputted lattice for the Ising model with each site being randomly determined\n",
    "             as spin up or spin down\n",
    "    \n",
    "    Parameters: spin_array - a two dimensional array representing a lattice\n",
    "                size - length and width of the lattice\n",
    "    \n",
    "    Returns: the initialized array\n",
    "    '''\n",
    "    ##loop through the array and randomly change a site to +1 or -1\n",
    "    for i in range(0,size):\n",
    "        for j in range(0,size):\n",
    "            rand = random.randint(0,1)\n",
    "            if rand == 0:\n",
    "                spin_array[i,j] *= -1\n",
    "                \n",
    "    return spin_array"
   ]
  },
  {
   "cell_type": "code",
   "execution_count": null,
   "metadata": {},
   "outputs": [],
   "source": [
    "def systemEnergy(spin_array, J):\n",
    "    '''\n",
    "    Summary: calculates the energy of a lattice\n",
    "    \n",
    "    Parameters: spin_array - a two dimensional array representing a lattice\n",
    "                J - a positive interaction constant\n",
    "    \n",
    "    Returns: the energy of the system\n",
    "    '''\n",
    "    e1 = spin_array[1:,:] * spin_array[:-1,:]\n",
    "    e2 = spin_array[:,1:] * spin_array[:,:-1]\n",
    "    \n",
    "    return - J * (np.sum(e1)+ np.sum(e2))"
   ]
  },
  {
   "cell_type": "code",
   "execution_count": null,
   "metadata": {},
   "outputs": [],
   "source": [
    "def flipRandomSite(spin_array, size):\n",
    "    '''\n",
    "    Summary: flips the spin of a random site in the inputted lattice\n",
    "    \n",
    "    Parameters: spin_array - a two dimensional array representing a lattice\n",
    "                size - length and width of the lattice\n",
    "    \n",
    "    Returns: the new spin array\n",
    "    '''\n",
    "    ##select a random site in the lattice\n",
    "    rand1 = random.randint(0,size-1)\n",
    "    rand2 = random.randint(0,size-1)\n",
    "    \n",
    "    ##multiply by -1 to change site spin\n",
    "    spin_array[rand1,rand2] *= -1\n",
    "    \n",
    "    return spin_array"
   ]
  },
  {
   "cell_type": "code",
   "execution_count": null,
   "metadata": {},
   "outputs": [],
   "source": [
    "def changeIsAccepted(initialEnergy, newEnergy, T, kB):\n",
    "    '''\n",
    "    Summary: using the Metropolis acceptance formula, determines if a change to the system is accepted.\n",
    "    \n",
    "    Parameters: initialEnergy - the initial energy of the system\n",
    "                newEnergy     - the new energy of the system after change\n",
    "                T  - temperature of system\n",
    "                kB - Boltzmanns constant\n",
    "    \n",
    "    Returns: accepted - boolian variable, if change is accepted returns true, else false\n",
    "    '''\n",
    "    ##initialize variable beta\n",
    "    beta = 1 / (kB * T)\n",
    "    \n",
    "    ##find probability of the change being accepted\n",
    "    if newEnergy <= initialEnergy:\n",
    "        accepted = True\n",
    "    else:\n",
    "        probability = np.e**(-beta*(newEnergy-initialEnergy))\n",
    "        if random.random() < probability:\n",
    "            accepted = True\n",
    "        else:\n",
    "            accepted = False\n",
    "            \n",
    "    return accepted"
   ]
  },
  {
   "cell_type": "code",
   "execution_count": null,
   "metadata": {},
   "outputs": [],
   "source": [
    "def stateChange(spin_array,size,T,kB,J):\n",
    "    '''\n",
    "    Summary: function to change the state of the lattice\n",
    "    \n",
    "    Parameters: spin_array - a two dimensional array representing a lattice\n",
    "                size - length and width of the lattice\n",
    "                T  - temperature of system\n",
    "                kB - Boltzmanns constant\n",
    "                J - a positive interaction constant\n",
    "    \n",
    "    Returns: the changed lattice\n",
    "    '''\n",
    "    ##find initial energy of system\n",
    "    initialEnergy = systemEnergy(spin_array, size, J)\n",
    "\n",
    "    ##flip a random spin in system, calculate the new energy\n",
    "    oldArray = spin_array.copy()\n",
    "    newArray = flipRandomSite(spin_array, size).copy()\n",
    "    newEnergy = systemEnergy(newArray, size, J)\n",
    "\n",
    "    ##determine if state change is accepted\n",
    "    test_change = changeIsAccepted(initialEnergy, newEnergy, T, kB)\n",
    "\n",
    "    if test_change:\n",
    "        return newArray\n",
    "    else:\n",
    "        return oldArray"
   ]
  },
  {
   "cell_type": "code",
   "execution_count": null,
   "metadata": {},
   "outputs": [],
   "source": [
    "def magnetization(spin_array):\n",
    "    '''\n",
    "    Summary: calculates the magnetization of the lattice by summing the spin up and spin down quantities\n",
    "    \n",
    "    Parameters: spin_array - a two dimensional array representing a lattice\n",
    "    \n",
    "    Returns: the magnetization\n",
    "    '''\n",
    "    return np.sum(spin_array)"
   ]
  },
  {
   "cell_type": "markdown",
   "metadata": {},
   "source": [
    "## Results <a id='res'></a>"
   ]
  },
  {
   "cell_type": "markdown",
   "metadata": {},
   "source": [
    "The following figures, 1 through 4, are the results of the Ising model simulation. For each graph, the magnetization was calculated over the span of one million Monte-Carlo steps. The initial lattice was a 20x20 lattice which has a net magnetization of $\\cong0$. For each subsequent figure, the temperature was raised to observe the effects on the systems magnetization."
   ]
  },
  {
   "cell_type": "markdown",
   "metadata": {},
   "source": [
    "<a id='fig1'></a>\n",
    "<img src=\"ising_magnetization_temp=0.png\" alt=\"drawing\" width=\"600\"/>\n",
    "$\\textbf{Fig. 1:}$ Plot of the magnetization of a 20x20 lattice, generated with an Ising model, for one million Monte-Carlo steps, when the temperature T of the system is T = 0. The magnetization M of the lattice starts at approximately M = 0. As the number of steps increase we can see that the magnetization steadily decreases and sets on a value of -400. "
   ]
  },
  {
   "cell_type": "markdown",
   "metadata": {},
   "source": [
    "<a id='fig2'></a>\n",
    "<img src=\"ising_magnetization_temp=1.png\" alt=\"drawing\" width=\"600\"/>\n",
    "$\\textbf{Fig. 2:}$ Plot of the magnetization of a 20x20 lattice, generated with an Ising model, for one million Monte-Carlo steps, when the temperature T of the system is T = 1. The magnetization M of the lattice starts at approximately M = 0. As the number of steps increase we can see that the magnetization steadily decreases and towards a value of -400. The systems M reaches this value after approximately  50,000 Monte-Carlo steps and continues to fluctuate around this value of M for the remainder of the simulation\n"
   ]
  },
  {
   "cell_type": "markdown",
   "metadata": {},
   "source": [
    "<a id='fig3'></a>\n",
    "<img src=\"ising_magnetization_temp=2.png\" alt=\"drawing\" width=\"600\"/>\n",
    "$\\textbf{Fig. 3:}$ Plot of the magnetization of a 20x20 lattice, generated with an Ising model, for one million Monte-Carlo steps, when the temperature T of the system is T = 2. The magnetization M of the lattice starts at approximately M = 0. As the number of steps increase we can see that the magnetization fluctuates between a negative and positive M, with M ≈ ±100 for the first 100,000 steps before the system maintains a negative M value for the remainder of the simulation. From the graph we can see that while M of the system remains negative, the magnetization never settles or fluctuates around a single value. \n"
   ]
  },
  {
   "cell_type": "markdown",
   "metadata": {},
   "source": [
    "<a id='fig4'></a>\n",
    "<img src=\"ising_magnetization_temp=3.png\" alt=\"drawing\" width=\"600\"/>\n",
    "$\\textbf{Fig. 4:}$ Plot of the magnetization of a 20x20 lattice, generated with an Ising model, for one million Monte-Carlo steps, when the temperature T of the system is T = 4. The magnetization M of the lattice starts at approximately M = 0. As the number of steps increase we can see that the magnetization fluctuates over the entire simulation between negative and positive magnetizations, resulting in a disordered system.\n"
   ]
  },
  {
   "cell_type": "markdown",
   "metadata": {},
   "source": [
    "## Analysis <a id='anly'></a>"
   ]
  },
  {
   "cell_type": "markdown",
   "metadata": {},
   "source": [
    "In [figure 1](#fig1), we see that the the magnetization steadily approaches a value of -400 and once reaching that value, stays fixed for the remainder of the simulation. This is what we would expect from this system. The lattice representing the system is a 20x20, therefore it has 400 sites. When the energy is the lowest, all the spins in the lattice would be -1. Therefore, when finding the magnetization through equation 3, -400 is the magnetization that we would expect. The behavior of the system is behavior that is expected as well for a temperature T=0. Once the system settles to -400 for the magnetization, it remains at that value. This is due to the probability of the system going into a higher energy state being zero when the temperature is 0, as there is no thermal energy able to move the system into a higher energy state. This results in the lattice being ordered and the lattice having a net magnetization."
   ]
  },
  {
   "cell_type": "markdown",
   "metadata": {},
   "source": [
    "When the temperature increases from 0 to 1 in [figure 2](#fig2), we see that the magnetization initially behaves akin to the behavior seem in [figure 1](#fig1). As the number of Monte-Carlo steps taken increases, the magnetization of the system approaches -400, as we saw in [figure 1](#fig1). The difference we see between the two states, when T=0 and T=1, is that when T=1 the magnetization does not remain constant throughout the simulation as it did when T=0, rather the magnetization fluctuates around -400. This result makes sense as there is now some probability of the system changing to higher energy states due to the thermal energy in the system. However, there is not enough thermal energy to make the lattice disordered."
   ]
  },
  {
   "cell_type": "markdown",
   "metadata": {},
   "source": [
    "In [figure 3](#fig3) the temperature of the system is increased to 2. The resulting magnetization of the system at this temperature changes from the steady decrease to higher negative magnetization observed in [figure 1](#fig1) and [figure2](#fig2). When T=2, the system starts in fluctuations between positive and negative values of the magnetization, before eventually maintaining a net negative magnetization while still experiencing significant fluctuations. While the system maintains a magnetization between -280 and -350, the magnetization has a large range of fluctuations. This is expected for a higher value of the temperature, as this means there is more thermal energy in the system which makes the probability of the system going to a higher energy larger."
   ]
  },
  {
   "cell_type": "markdown",
   "metadata": {},
   "source": [
    "When the temperature is increased to 3 in [figure 4](#fig4), we see the state becomes disordered, where the magnetization of the lattice fluctuating between negative and positive values of the magnetization over the entire simulation. The lattice never maintains a net magnetization for a higher temperature, which is what was expected. From the increase in thermal energy, the system is never able to develop a net magnetization."
   ]
  },
  {
   "cell_type": "markdown",
   "metadata": {},
   "source": [
    "From these figures, we can determine that increasing the temperature of the representative lattice decreases and eventually inhibits the lattice from maintaining a net magnetization. Using model 1, we can confirm the results from figures 1 through 4. By plotting the strength of magnetization of a ferromagnetic material over a range of temperatures, we produce [figure 5](#fig5)."
   ]
  },
  {
   "cell_type": "markdown",
   "metadata": {},
   "source": [
    " <a id='fig5'></a>\n",
    " <img src=\"magStrength_ferromagneticMaterial.png\" alt=\"drawing\" width=\"600\"/>    \n",
    "$\\textbf{Fig. 5:}$ Plot of the magnetization strength of a general ferromagnetic material using model 2, where C=1. This graph shows the solutions to equation 6 found through using the relaxation method to solve for nonzero solutions. When the temperature T approaches T = 1, the magnetization of the ferromagnetic material goes to zero. When T ≥ 1, the only solutions are 0.\n"
   ]
  },
  {
   "cell_type": "markdown",
   "metadata": {},
   "source": [
    "From [figure 5](#fig5), we can confirm for ferromagnetic materials that as the temperature of the material increases, the magnetization of the material decreases until it becomes 0. The point at which the magnetization becomes 0 is called the Curie point, as discussed above."
   ]
  },
  {
   "cell_type": "markdown",
   "metadata": {},
   "source": [
    "## Summary <a id='sum'></a>\n",
    "#### Sections:\n",
    "* [Scientific Summary](#sciSum)\n",
    "* [Personal Summary](#perSum)"
   ]
  },
  {
   "cell_type": "markdown",
   "metadata": {},
   "source": [
    "#### Scientific Summary<a id='sciSum'></a>\n",
    "The scientific problem this project set out to answer was to describe and explain why ferromagnetic materials lose their magnetization when the thermal energy in the material increases. Through this project, we are able to explain this phenomenon through the understanding of magnetic moments, the results from using the Ising model to simulate a ferromagnetic material, and the properties of ferromagnetic materials. From the Ising model simulation, we found that as the temperature in the system increases, the system is unable to maintain a net magnetization due to the system never settling onto an energy state. This results in the system (or ferromagnetic material), not being able to form a net magnetic field. In this project I met most of the goals I set out to accomplish at the beginning: simulating a ferromagnetic material using the Ising model, learning how magnet fields are influenced by temperature, and creating a Jupyter notebook detailing the progress of the project. The one goal I did not achieve is creating a working animation of my Ising model simulation."
   ]
  },
  {
   "cell_type": "markdown",
   "metadata": {},
   "source": [
    "#### Personal Summary<a id='perSum'></a>\n",
    "This project was inspired by a friend of mine asking why iron loses its magnetic properties at high temperatures. The context for this question is that in blacksmithing, before you go to quench a knife, you heat it above the curie point in order to increase the hardness of the blade. The curie point is when, for ferromagnetic materials, they lose their magnetization. Therefore to test if the blade is hot enough, you press a magnet against it and see if there is an attraction. When asked this question, I was unable to answer with as much detail as I had hoped I could (with certainty). So out of some embarrassment, this project was influenced by that question and me not having an answer. From completing this project, I've discovered what the process is like, on a small scale, to ask a question without knowing the answer, and then doing research, coding, and simulations to figure out what is going on. That experience was incredibly valuable and has shown me what's possible through an understanding of computational physics."
   ]
  },
  {
   "cell_type": "markdown",
   "metadata": {},
   "source": [
    "## References <a id='reference'></a>"
   ]
  },
  {
   "cell_type": "markdown",
   "metadata": {},
   "source": [
    "* [1] Nave, J. (n.d.). Magnetic Dipole Moment. Retrieved May 1, 2020, from http://hyperphysics.phy-astr.gsu.edu/hbase/magnetic/magmom.html\n",
    "* [2] Magnetic dipole moment. (n.d.). Retrieved May 1, 2020, from http://mriquestions.com/magnetic-dipole-moment.html\n",
    "* [3] Chang, J. (n.d.). Retrieved May 1, 2020, from http://stanford.edu/~jeffjar/statmech2/intro4.html\n",
    "* [4] Newman, M. E. J. (2013). Computational physics. S.l.: Createspace.\n",
    "* [5] Eastman, P. (n.d.). 6. Phase Transitions. Retrieved May 1, 2020, from https://web.stanford.edu/~peastman/statmech/phasetransitions.html\n",
    "* [6] Oxford English Dictionary. (n.d.). Retrieved from https://www.oed.com/\n",
    "* [7] Nave, R. (n.d.). Ferromagnetism. Retrieved May 1, 2020, from http://hyperphysics.phy-astr.gsu.edu/hbase/Solids/ferro.html\n",
    "* [8] Cai, W. (2011). pdf. Stanford, from http://micro.stanford.edu/~caiwei/me334/Chap12_Ising_Model_v04.pdf\\\n",
    "* [9]The Spontaneous Magnetization of a Two-Dimensional Ising Model C.N. Yang, Physical Review E 85 (1952)\n",
    "* [10] Purcell, E. M., & Morin, D. (2013). Electricity and magnetism. Cambridge: Cambridge University Press."
   ]
  }
 ],
 "metadata": {
  "kernelspec": {
   "display_name": "Python 3",
   "language": "python",
   "name": "python3"
  },
  "language_info": {
   "codemirror_mode": {
    "name": "ipython",
    "version": 3
   },
   "file_extension": ".py",
   "mimetype": "text/x-python",
   "name": "python",
   "nbconvert_exporter": "python",
   "pygments_lexer": "ipython3",
   "version": "3.7.4"
  }
 },
 "nbformat": 4,
 "nbformat_minor": 2
}
