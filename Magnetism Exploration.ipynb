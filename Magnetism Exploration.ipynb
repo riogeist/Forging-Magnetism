{
 "cells": [
  {
   "cell_type": "markdown",
   "metadata": {},
   "source": [
    "### Model 1: Strength of a ferromagnetic material with respect to Temperature"
   ]
  },
  {
   "cell_type": "code",
   "execution_count": 85,
   "metadata": {},
   "outputs": [],
   "source": [
    "import math\n",
    "import numpy as np\n",
    "import matplotlib.pyplot as plt\n",
    "plt.rcParams['animation.ffmpeg_path'] = 'C:\\ffmpeg'\n",
    "import matplotlib.animation as animation"
   ]
  },
  {
   "cell_type": "code",
   "execution_count": 197,
   "metadata": {},
   "outputs": [
    {
     "data": {
      "image/png": "[encoded data removed]",
      "text/plain": [
       "<Figure size 576x360 with 1 Axes>"
      ]
     },
     "metadata": {
      "needs_background": "light"
     },
     "output_type": "display_data"
    }
   ],
   "source": [
    "## Constants\n",
    "Tmax = 2.0\n",
    "points = 1000\n",
    "accuracy = 1e-6\n",
    "\n",
    "## Set up lists for plotting\n",
    "y = []\n",
    "temp = np.linspace(0.01,Tmax,points)\n",
    "\n",
    "## Temperature loop\n",
    "for T in temp:\n",
    "    m1 = 1.0\n",
    "    error = 1.0\n",
    "    \n",
    "    ## Loop until desired error\n",
    "    while error>accuracy:\n",
    "        m1,m2 = math.tanh(m1/T),m1\n",
    "        error = abs((m1-m2)/(1-T*math.cosh(m2/T)**2))\n",
    "        \n",
    "    y.append(m1)\n",
    "\n",
    "##create plot\n",
    "fig,ferro = plt.subplots(nrows=1, figsize=(8, 5))\n",
    "ferro.plot(temp,y,\"-\")\n",
    "ferro.set_ylabel(\"Magnetization\")\n",
    "ferro.set_xlabel(\"Temperature\")\n",
    "ferro.set_title(\"Strength of Magnetization for a Ferromagnetic Material\")\n",
    "                \n",
    "#ferro.figure.savefig(\"magStrength_ferromagneticMaterial\")\n",
    "plt.show()"
   ]
  },
  {
   "cell_type": "markdown",
   "metadata": {},
   "source": [
    "# Ising Model"
   ]
  },
  {
   "cell_type": "code",
   "execution_count": 3,
   "metadata": {},
   "outputs": [],
   "source": [
    "import random\n",
    "import math"
   ]
  },
  {
   "cell_type": "code",
   "execution_count": 4,
   "metadata": {},
   "outputs": [],
   "source": [
    "def createLattice(rows, cols):\n",
    "    '''function that returns an array of dimensions rows by columns, \n",
    "    where each site in array is filled with integer 1'''\n",
    "    \n",
    "    return np.ones((rows, cols))"
   ]
  },
  {
   "cell_type": "code",
   "execution_count": 5,
   "metadata": {},
   "outputs": [
    {
     "name": "stdout",
     "output_type": "stream",
     "text": [
      "[[1. 1. 1. 1.]\n",
      " [1. 1. 1. 1.]\n",
      " [1. 1. 1. 1.]\n",
      " [1. 1. 1. 1.]]\n"
     ]
    }
   ],
   "source": [
    "## create an array for testing and print array\n",
    "testSize = 4\n",
    "testSpinArray = createLattice(testSize,testSize)\n",
    "print(testSpinArray)"
   ]
  },
  {
   "cell_type": "code",
   "execution_count": 6,
   "metadata": {},
   "outputs": [],
   "source": [
    "def find_neighbors(spin_array, size, i, j):\n",
    "    '''\n",
    "    Summary: function to find the nearest neighbors of a specific site in a lattice. For some lattice sites, \n",
    "             to avoid counting unique pairs twice, sites below the top row and sites beyond the left row only count \n",
    "             nearest neighbors below and above. This function uses a repeating lattice to count nearest neighbors.\n",
    "    \n",
    "    Parameters: spin_array - a two dimensional array representing a lattice\n",
    "                size - length and width of the lattice\n",
    "                i - variable representing the i'th row\n",
    "                j - variable representing the j'th row\n",
    "    \n",
    "    \n",
    "    Returns: the product of the sites interactions with it's nearest neighbors.\n",
    "    '''\n",
    "    ##calculating nearest neighbors to the site\n",
    "    left   = spin_array[(i, j - 1)]\n",
    "    right  = spin_array[(i, (j + 1) % size)]\n",
    "    top    = spin_array[(i - 1, j)]\n",
    "    bottom = spin_array[((i + 1) % size, j)]\n",
    "    \n",
    "    ##conditions for specific lattice sites\n",
    "    if i != 0:\n",
    "        top = 0\n",
    "    if j != 0:\n",
    "        left = 0\n",
    "\n",
    "    return left*spin_array[i,j]+right*spin_array[i,j]+top*spin_array[i,j]+bottom*spin_array[i,j]"
   ]
  },
  {
   "cell_type": "code",
   "execution_count": 44,
   "metadata": {},
   "outputs": [],
   "source": [
    "def systemEnergy(spin_array, size, J):\n",
    "    '''\n",
    "    Summary: calculates the energy of a lattice\n",
    "    \n",
    "    Parameters: spin_array - a two dimensional array representing a lattice\n",
    "                size - length and width of the lattice\n",
    "                J - a positive interaction constant\n",
    "    \n",
    "    Returns: the energy of the system\n",
    "    '''\n",
    "    '''\n",
    "    ##initialize the energy as zero\n",
    "    sumEnergy = 0\n",
    "    \n",
    "    ##loop through lattice, summing the energies\n",
    "    for i in range(0,size):\n",
    "        for j in range(0,size):\n",
    "            sumEnergy += find_neighbors(spin_array, size,i,j)\n",
    "            \n",
    "    return -J * sumEnergy\n",
    "    '''\n",
    "    s1 = spin_array[:-1,:] * spin_array[1:,:]\n",
    "    s2 = spin_array[:,:-1] * spin_array[:,1:]\n",
    "    \n",
    "    return - J * (np.sum(s1)+ np.sum(s2))"
   ]
  },
  {
   "cell_type": "code",
   "execution_count": 45,
   "metadata": {},
   "outputs": [
    {
     "name": "stdout",
     "output_type": "stream",
     "text": [
      "-2.0\n"
     ]
    }
   ],
   "source": [
    "## energy should be -40 w/ size = 4, using nearest neighbors and treating the lattice as repeating\n",
    "J = 1\n",
    "print(systemEnergy(testSpinArray,testSize,J))"
   ]
  },
  {
   "cell_type": "code",
   "execution_count": 9,
   "metadata": {},
   "outputs": [],
   "source": [
    "def initializeLattice(spin_array,size):\n",
    "    '''\n",
    "    Summary: initializes an inputted lattice for the Ising model with each site being randomly determined\n",
    "             as spin up or spin down\n",
    "    \n",
    "    Parameters: spin_array - a two dimensional array representing a lattice\n",
    "                size - length and width of the lattice\n",
    "    \n",
    "    Returns: the initialized array\n",
    "    '''\n",
    "    ##loop through the array and randomly change a site to +1 or -1\n",
    "    for i in range(0,size):\n",
    "        for j in range(0,size):\n",
    "            rand = random.randint(0,1)\n",
    "            if rand == 0:\n",
    "                spin_array[i,j] *= -1\n",
    "                \n",
    "    return spin_array"
   ]
  },
  {
   "cell_type": "code",
   "execution_count": 10,
   "metadata": {},
   "outputs": [
    {
     "data": {
      "text/plain": [
       "array([[-1., -1., -1., -1.],\n",
       "       [ 1., -1., -1., -1.],\n",
       "       [-1.,  1., -1., -1.],\n",
       "       [-1., -1.,  1., -1.]])"
      ]
     },
     "execution_count": 10,
     "metadata": {},
     "output_type": "execute_result"
    }
   ],
   "source": [
    "## test initializeLattice function\n",
    "initializeLattice(testSpinArray, testSize)"
   ]
  },
  {
   "cell_type": "code",
   "execution_count": 48,
   "metadata": {},
   "outputs": [],
   "source": [
    "def flipRandomSite(spin_array, size):\n",
    "    '''\n",
    "    Summary: flips the spin of a random site in the inputted lattice\n",
    "    \n",
    "    Parameters: spin_array - a two dimensional array representing a lattice\n",
    "                size - length and width of the lattice\n",
    "    \n",
    "    Returns: the new spin array\n",
    "    '''\n",
    "    ##select a random site in the lattice\n",
    "    rand1 = random.randint(0,size-1)\n",
    "    rand2 = random.randint(0,size-1)\n",
    "    \n",
    "    ##multiply by -1 to change site spin\n",
    "    spin_array[rand1,rand2] *= -1\n",
    "    \n",
    "    return spin_array"
   ]
  },
  {
   "cell_type": "code",
   "execution_count": 49,
   "metadata": {},
   "outputs": [
    {
     "name": "stdout",
     "output_type": "stream",
     "text": [
      "initial array: \n",
      " [[-1. -1. -1. -1.]\n",
      " [ 1.  1. -1. -1.]\n",
      " [-1.  1.  1.  1.]\n",
      " [-1. -1.  1. -1.]]\n",
      "after flip: \n",
      " [[-1. -1. -1. -1.]\n",
      " [ 1. -1. -1. -1.]\n",
      " [-1.  1.  1.  1.]\n",
      " [-1. -1.  1. -1.]]\n"
     ]
    }
   ],
   "source": [
    "## test flipRandomSite function\n",
    "print(\"initial array:\",\"\\n\",testSpinArray)\n",
    "print(\"after flip:\",\"\\n\", flipRandomSite(testSpinArray, testSize))"
   ]
  },
  {
   "cell_type": "code",
   "execution_count": 40,
   "metadata": {},
   "outputs": [],
   "source": [
    "def changeIsAccepted(initialEnergy, newEnergy, T, kB):\n",
    "    '''\n",
    "    Summary: using the Metropolis acceptance formula, determines if a change to the system is accepted.\n",
    "    \n",
    "    Parameters: initialEnergy - the initial energy of the system\n",
    "                newEnergy     - the new energy of the system after change\n",
    "                T  - temperature of system\n",
    "                kB - Boltzmanns constant\n",
    "    \n",
    "    Returns: accepted - boolian variable, if change is accepted returns true, else false\n",
    "    '''\n",
    "    ##initialize variable beta\n",
    "    beta = 1 / (kB * T)\n",
    "    \n",
    "    ##find probability of the change being accepted\n",
    "    if newEnergy <= initialEnergy:\n",
    "        accepted = True\n",
    "    else:\n",
    "        probability = np.e**(-beta*(newEnergy-initialEnergy))\n",
    "        if random.random() < probability:\n",
    "            accepted = True\n",
    "        else:\n",
    "            accepted = False\n",
    "            \n",
    "    return accepted"
   ]
  },
  {
   "cell_type": "code",
   "execution_count": 50,
   "metadata": {},
   "outputs": [],
   "source": [
    "def stateChange(spin_array,size,T,kB,J):\n",
    "    '''\n",
    "    Summary: function to change the state of the lattice\n",
    "    \n",
    "    Parameters: spin_array - a two dimensional array representing a lattice\n",
    "                size - length and width of the lattice\n",
    "                T  - temperature of system\n",
    "                kB - Boltzmanns constant\n",
    "                J - a positive interaction constant\n",
    "    \n",
    "    Returns: the changed lattice\n",
    "    '''\n",
    "    ##find initial energy of system\n",
    "    initialEnergy = systemEnergy(spin_array, size, J)\n",
    "\n",
    "    ##flip a random spin in system, calculate the new energy\n",
    "    oldArray = spin_array.copy()\n",
    "    newArray = flipRandomSite(spin_array, size).copy()\n",
    "    newEnergy = systemEnergy(newArray, size, J)\n",
    "\n",
    "    ##determine if state change is accepted\n",
    "    test_change = changeIsAccepted(initialEnergy, newEnergy, T, kB)\n",
    "\n",
    "    if test_change:\n",
    "        return newArray\n",
    "    else:\n",
    "        return oldArray"
   ]
  },
  {
   "cell_type": "code",
   "execution_count": 51,
   "metadata": {},
   "outputs": [],
   "source": [
    "def magnetization(spin_array):\n",
    "    '''\n",
    "    Summary: calculates the magnetization of the lattice by summing the spin up and spin down quantities\n",
    "    \n",
    "    Parameters: spin_array - a two dimensional array representing a lattice\n",
    "    \n",
    "    Returns: the magnetization\n",
    "    '''\n",
    "    return np.sum(spin_array)"
   ]
  },
  {
   "cell_type": "code",
   "execution_count": 178,
   "metadata": {
    "scrolled": false
   },
   "outputs": [
    {
     "data": {
      "image/png": "[encoded data removed]",
      "text/plain": [
       "<Figure size 720x360 with 1 Axes>"
      ]
     },
     "metadata": {
      "needs_background": "light"
     },
     "output_type": "display_data"
    }
   ],
   "source": [
    "steps = 1000000\n",
    "dimensions = 20\n",
    "M = np.zeros(steps)\n",
    "T = 2.6\n",
    "kB = 1\n",
    "J = 1\n",
    "\n",
    "testArray = createLattice(dimensions,dimensions)\n",
    "testArray = initializeLattice(testArray,dimensions)\n",
    "\n",
    "\n",
    "for t in range(steps):\n",
    "    M[t] = magnetization(testArray)\n",
    "    testArray = stateChange(testArray,dimensions,T,kB,J)\n",
    "    \n",
    "##create plot\n",
    "fig,mag = plt.subplots(nrows=1, figsize=(10, 5))\n",
    "\n",
    "mag.plot(M,\"-\")\n",
    "mag.set_ylabel(\"Magnetization\")\n",
    "mag.set_xlabel(\"Monte-Carlo Steps\")\n",
    "mag.set_title(\"Magnetization of Lattice: Temperature = \"+str(T))\n",
    "\n",
    "##saves figure\n",
    "#mag.figure.savefig(\"ising_magnetization_temp=\"+str(T))\n",
    "\n",
    "plt.show()"
   ]
  },
  {
   "cell_type": "markdown",
   "metadata": {},
   "source": [
    "#### Animating the Ising model\n",
    "##### incomplete"
   ]
  },
  {
   "cell_type": "code",
   "execution_count": 64,
   "metadata": {},
   "outputs": [],
   "source": [
    "animation.FuncAnimation?"
   ]
  },
  {
   "cell_type": "code",
   "execution_count": 76,
   "metadata": {},
   "outputs": [],
   "source": [
    "from IPython.display import HTML"
   ]
  },
  {
   "cell_type": "code",
   "execution_count": 94,
   "metadata": {},
   "outputs": [],
   "source": [
    "def initIsing():\n",
    "    global isingImage\n",
    "    \n",
    "    L = 20\n",
    "    \n",
    "    ##initial lattice\n",
    "    isingLattice = createLattice(L,L)\n",
    "    isingLattice = initializeLattice(isingLattice,L)\n",
    "    \n",
    "    isingImage = plt.imshow(isingLattice, interpolation = \"none\", cmap = \"gray\")\n",
    "    \n",
    "    return isingImage"
   ]
  },
  {
   "cell_type": "code",
   "execution_count": 98,
   "metadata": {},
   "outputs": [],
   "source": [
    "def isingAnimation(spin_array, size, T, kB, J):\n",
    "    global isingImage\n",
    "    \n",
    "    isingImage.set_data([stateChange(spin_array,size,T,kB,J)])\n",
    "    \n",
    "    return isingImage"
   ]
  },
  {
   "cell_type": "code",
   "execution_count": 123,
   "metadata": {},
   "outputs": [
    {
     "name": "stderr",
     "output_type": "stream",
     "text": [
      "Traceback (most recent call last):\n",
      "  File \"C:\\Users\\info\\AppData\\Local\\anaconda3\\lib\\site-packages\\matplotlib\\cbook\\__init__.py\", line 216, in process\n",
      "    func(*args, **kwargs)\n",
      "  File \"C:\\Users\\info\\AppData\\Local\\anaconda3\\lib\\site-packages\\matplotlib\\animation.py\", line 953, in _start\n",
      "    self._init_draw()\n",
      "  File \"C:\\Users\\info\\AppData\\Local\\anaconda3\\lib\\site-packages\\matplotlib\\animation.py\", line 1740, in _init_draw\n",
      "    for a in self._drawn_artists:\n",
      "TypeError: 'AxesImage' object is not iterable\n",
      "MovieWriter ffmpeg unavailable; trying to use <class 'matplotlib.animation.PillowWriter'> instead.\n"
     ]
    },
    {
     "ename": "IndexError",
     "evalue": "list index out of range",
     "output_type": "error",
     "traceback": [
      "\u001b[1;31m---------------------------------------------------------------------------\u001b[0m",
      "\u001b[1;31mTypeError\u001b[0m                                 Traceback (most recent call last)",
      "\u001b[1;32m~\\AppData\\Local\\anaconda3\\lib\\site-packages\\matplotlib\\animation.py\u001b[0m in \u001b[0;36msaving\u001b[1;34m(self, fig, outfile, dpi, *args, **kwargs)\u001b[0m\n\u001b[0;32m    229\u001b[0m         \u001b[1;32mtry\u001b[0m\u001b[1;33m:\u001b[0m\u001b[1;33m\u001b[0m\u001b[1;33m\u001b[0m\u001b[0m\n\u001b[1;32m--> 230\u001b[1;33m             \u001b[1;32myield\u001b[0m \u001b[0mself\u001b[0m\u001b[1;33m\u001b[0m\u001b[1;33m\u001b[0m\u001b[0m\n\u001b[0m\u001b[0;32m    231\u001b[0m         \u001b[1;32mfinally\u001b[0m\u001b[1;33m:\u001b[0m\u001b[1;33m\u001b[0m\u001b[1;33m\u001b[0m\u001b[0m\n",
      "\u001b[1;32m~\\AppData\\Local\\anaconda3\\lib\\site-packages\\matplotlib\\animation.py\u001b[0m in \u001b[0;36msave\u001b[1;34m(self, filename, writer, fps, dpi, codec, bitrate, extra_args, metadata, extra_anim, savefig_kwargs, progress_callback)\u001b[0m\n\u001b[0;32m   1138\u001b[0m                     \u001b[1;31m# Clear the initial frame\u001b[0m\u001b[1;33m\u001b[0m\u001b[1;33m\u001b[0m\u001b[1;33m\u001b[0m\u001b[0m\n\u001b[1;32m-> 1139\u001b[1;33m                     \u001b[0manim\u001b[0m\u001b[1;33m.\u001b[0m\u001b[0m_init_draw\u001b[0m\u001b[1;33m(\u001b[0m\u001b[1;33m)\u001b[0m\u001b[1;33m\u001b[0m\u001b[1;33m\u001b[0m\u001b[0m\n\u001b[0m\u001b[0;32m   1140\u001b[0m                 \u001b[0mframe_number\u001b[0m \u001b[1;33m=\u001b[0m \u001b[1;36m0\u001b[0m\u001b[1;33m\u001b[0m\u001b[1;33m\u001b[0m\u001b[0m\n",
      "\u001b[1;32m~\\AppData\\Local\\anaconda3\\lib\\site-packages\\matplotlib\\animation.py\u001b[0m in \u001b[0;36m_init_draw\u001b[1;34m(self)\u001b[0m\n\u001b[0;32m   1739\u001b[0m                                        'sequence of Artist objects.')\n\u001b[1;32m-> 1740\u001b[1;33m                 \u001b[1;32mfor\u001b[0m \u001b[0ma\u001b[0m \u001b[1;32min\u001b[0m \u001b[0mself\u001b[0m\u001b[1;33m.\u001b[0m\u001b[0m_drawn_artists\u001b[0m\u001b[1;33m:\u001b[0m\u001b[1;33m\u001b[0m\u001b[1;33m\u001b[0m\u001b[0m\n\u001b[0m\u001b[0;32m   1741\u001b[0m                     \u001b[0ma\u001b[0m\u001b[1;33m.\u001b[0m\u001b[0mset_animated\u001b[0m\u001b[1;33m(\u001b[0m\u001b[0mself\u001b[0m\u001b[1;33m.\u001b[0m\u001b[0m_blit\u001b[0m\u001b[1;33m)\u001b[0m\u001b[1;33m\u001b[0m\u001b[1;33m\u001b[0m\u001b[0m\n",
      "\u001b[1;31mTypeError\u001b[0m: 'AxesImage' object is not iterable",
      "\nDuring handling of the above exception, another exception occurred:\n",
      "\u001b[1;31mIndexError\u001b[0m                                Traceback (most recent call last)",
      "\u001b[1;32m<ipython-input-123-34629f7eff57>\u001b[0m in \u001b[0;36m<module>\u001b[1;34m\u001b[0m\n\u001b[0;32m     11\u001b[0m anim = animation.FuncAnimation(fig, isingAnimation, init_func=initIsing, \n\u001b[0;32m     12\u001b[0m                                fargs=(L,T,kB,J),frames=steps,interval=250,blit=True)\n\u001b[1;32m---> 13\u001b[1;33m \u001b[0manim\u001b[0m\u001b[1;33m.\u001b[0m\u001b[0msave\u001b[0m\u001b[1;33m(\u001b[0m\u001b[1;34m'animation.mp4'\u001b[0m\u001b[1;33m)\u001b[0m\u001b[1;33m\u001b[0m\u001b[1;33m\u001b[0m\u001b[0m\n\u001b[0m\u001b[0;32m     14\u001b[0m \u001b[1;31m#anim.save('im.mp4', writer=writer)\u001b[0m\u001b[1;33m\u001b[0m\u001b[1;33m\u001b[0m\u001b[1;33m\u001b[0m\u001b[0m\n",
      "\u001b[1;32m~\\AppData\\Local\\anaconda3\\lib\\site-packages\\matplotlib\\animation.py\u001b[0m in \u001b[0;36msave\u001b[1;34m(self, filename, writer, fps, dpi, codec, bitrate, extra_args, metadata, extra_anim, savefig_kwargs, progress_callback)\u001b[0m\n\u001b[0;32m   1154\u001b[0m                             \u001b[0mprogress_callback\u001b[0m\u001b[1;33m(\u001b[0m\u001b[0mframe_number\u001b[0m\u001b[1;33m,\u001b[0m \u001b[0mtotal_frames\u001b[0m\u001b[1;33m)\u001b[0m\u001b[1;33m\u001b[0m\u001b[1;33m\u001b[0m\u001b[0m\n\u001b[0;32m   1155\u001b[0m                             \u001b[0mframe_number\u001b[0m \u001b[1;33m+=\u001b[0m \u001b[1;36m1\u001b[0m\u001b[1;33m\u001b[0m\u001b[1;33m\u001b[0m\u001b[0m\n\u001b[1;32m-> 1156\u001b[1;33m                     \u001b[0mwriter\u001b[0m\u001b[1;33m.\u001b[0m\u001b[0mgrab_frame\u001b[0m\u001b[1;33m(\u001b[0m\u001b[1;33m**\u001b[0m\u001b[0msavefig_kwargs\u001b[0m\u001b[1;33m)\u001b[0m\u001b[1;33m\u001b[0m\u001b[1;33m\u001b[0m\u001b[0m\n\u001b[0m\u001b[0;32m   1157\u001b[0m \u001b[1;33m\u001b[0m\u001b[0m\n\u001b[0;32m   1158\u001b[0m         \u001b[1;31m# Reconnect signal for first draw if necessary\u001b[0m\u001b[1;33m\u001b[0m\u001b[1;33m\u001b[0m\u001b[1;33m\u001b[0m\u001b[0m\n",
      "\u001b[1;32m~\\AppData\\Local\\anaconda3\\lib\\contextlib.py\u001b[0m in \u001b[0;36m__exit__\u001b[1;34m(self, type, value, traceback)\u001b[0m\n\u001b[0;32m    128\u001b[0m                 \u001b[0mvalue\u001b[0m \u001b[1;33m=\u001b[0m \u001b[0mtype\u001b[0m\u001b[1;33m(\u001b[0m\u001b[1;33m)\u001b[0m\u001b[1;33m\u001b[0m\u001b[1;33m\u001b[0m\u001b[0m\n\u001b[0;32m    129\u001b[0m             \u001b[1;32mtry\u001b[0m\u001b[1;33m:\u001b[0m\u001b[1;33m\u001b[0m\u001b[1;33m\u001b[0m\u001b[0m\n\u001b[1;32m--> 130\u001b[1;33m                 \u001b[0mself\u001b[0m\u001b[1;33m.\u001b[0m\u001b[0mgen\u001b[0m\u001b[1;33m.\u001b[0m\u001b[0mthrow\u001b[0m\u001b[1;33m(\u001b[0m\u001b[0mtype\u001b[0m\u001b[1;33m,\u001b[0m \u001b[0mvalue\u001b[0m\u001b[1;33m,\u001b[0m \u001b[0mtraceback\u001b[0m\u001b[1;33m)\u001b[0m\u001b[1;33m\u001b[0m\u001b[1;33m\u001b[0m\u001b[0m\n\u001b[0m\u001b[0;32m    131\u001b[0m             \u001b[1;32mexcept\u001b[0m \u001b[0mStopIteration\u001b[0m \u001b[1;32mas\u001b[0m \u001b[0mexc\u001b[0m\u001b[1;33m:\u001b[0m\u001b[1;33m\u001b[0m\u001b[1;33m\u001b[0m\u001b[0m\n\u001b[0;32m    132\u001b[0m                 \u001b[1;31m# Suppress StopIteration *unless* it's the same exception that\u001b[0m\u001b[1;33m\u001b[0m\u001b[1;33m\u001b[0m\u001b[1;33m\u001b[0m\u001b[0m\n",
      "\u001b[1;32m~\\AppData\\Local\\anaconda3\\lib\\site-packages\\matplotlib\\animation.py\u001b[0m in \u001b[0;36msaving\u001b[1;34m(self, fig, outfile, dpi, *args, **kwargs)\u001b[0m\n\u001b[0;32m    230\u001b[0m             \u001b[1;32myield\u001b[0m \u001b[0mself\u001b[0m\u001b[1;33m\u001b[0m\u001b[1;33m\u001b[0m\u001b[0m\n\u001b[0;32m    231\u001b[0m         \u001b[1;32mfinally\u001b[0m\u001b[1;33m:\u001b[0m\u001b[1;33m\u001b[0m\u001b[1;33m\u001b[0m\u001b[0m\n\u001b[1;32m--> 232\u001b[1;33m             \u001b[0mself\u001b[0m\u001b[1;33m.\u001b[0m\u001b[0mfinish\u001b[0m\u001b[1;33m(\u001b[0m\u001b[1;33m)\u001b[0m\u001b[1;33m\u001b[0m\u001b[1;33m\u001b[0m\u001b[0m\n\u001b[0m\u001b[0;32m    233\u001b[0m \u001b[1;33m\u001b[0m\u001b[0m\n\u001b[0;32m    234\u001b[0m \u001b[1;33m\u001b[0m\u001b[0m\n",
      "\u001b[1;32m~\\AppData\\Local\\anaconda3\\lib\\site-packages\\matplotlib\\animation.py\u001b[0m in \u001b[0;36mfinish\u001b[1;34m(self)\u001b[0m\n\u001b[0;32m    573\u001b[0m \u001b[1;33m\u001b[0m\u001b[0m\n\u001b[0;32m    574\u001b[0m     \u001b[1;32mdef\u001b[0m \u001b[0mfinish\u001b[0m\u001b[1;33m(\u001b[0m\u001b[0mself\u001b[0m\u001b[1;33m)\u001b[0m\u001b[1;33m:\u001b[0m\u001b[1;33m\u001b[0m\u001b[1;33m\u001b[0m\u001b[0m\n\u001b[1;32m--> 575\u001b[1;33m         self._frames[0].save(\n\u001b[0m\u001b[0;32m    576\u001b[0m             \u001b[0mself\u001b[0m\u001b[1;33m.\u001b[0m\u001b[0m_outfile\u001b[0m\u001b[1;33m,\u001b[0m \u001b[0msave_all\u001b[0m\u001b[1;33m=\u001b[0m\u001b[1;32mTrue\u001b[0m\u001b[1;33m,\u001b[0m \u001b[0mappend_images\u001b[0m\u001b[1;33m=\u001b[0m\u001b[0mself\u001b[0m\u001b[1;33m.\u001b[0m\u001b[0m_frames\u001b[0m\u001b[1;33m[\u001b[0m\u001b[1;36m1\u001b[0m\u001b[1;33m:\u001b[0m\u001b[1;33m]\u001b[0m\u001b[1;33m,\u001b[0m\u001b[1;33m\u001b[0m\u001b[1;33m\u001b[0m\u001b[0m\n\u001b[0;32m    577\u001b[0m             duration=int(1000 / self.fps), loop=0)\n",
      "\u001b[1;31mIndexError\u001b[0m: list index out of range"
     ]
    },
    {
     "data": {
      "image/png": "[encoded data removed]",
      "text/plain": [
       "<Figure size 432x288 with 1 Axes>"
      ]
     },
     "metadata": {},
     "output_type": "display_data"
    }
   ],
   "source": [
    "##define figure\n",
    "fig,ax = plt.subplots()\n",
    "ax.set_xticks([])\n",
    "ax.set_yticks([])\n",
    "\n",
    "# Set up formatting for the movie files\n",
    "#mywriter = animation.FFMpegWriter()\n",
    "#Writer = animation.writers['ffmpeg']\n",
    "#writer = Writer(fps=15, metadata=dict(artist='Me'), bitrate=1800)\n",
    "\n",
    "anim = animation.FuncAnimation(fig, isingAnimation, init_func=initIsing, \n",
    "                               fargs=(L,T,kB,J),frames=steps,interval=250,blit=True)\n",
    "anim.save('animation.mp4')\n",
    "#anim.save('im.mp4', writer=writer)"
   ]
  }
 ],
 "metadata": {
  "kernelspec": {
   "display_name": "Python 3",
   "language": "python",
   "name": "python3"
  },
  "language_info": {
   "codemirror_mode": {
    "name": "ipython",
    "version": 3
   },
   "file_extension": ".py",
   "mimetype": "text/x-python",
   "name": "python",
   "nbconvert_exporter": "python",
   "pygments_lexer": "ipython3",
   "version": "3.7.4"
  }
 },
 "nbformat": 4,
 "nbformat_minor": 2
}
