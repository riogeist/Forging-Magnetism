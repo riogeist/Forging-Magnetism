{
 "cells": [
  {
   "cell_type": "code",
   "execution_count": 1,
   "metadata": {},
   "outputs": [],
   "source": [
    "import math\n",
    "import numpy as np\n",
    "import pylab as py"
   ]
  },
  {
   "cell_type": "code",
   "execution_count": 2,
   "metadata": {},
   "outputs": [
    {
     "data": {
      "image/png": "[encoded data removed]",
      "text/plain": [
       "<Figure size 432x288 with 1 Axes>"
      ]
     },
     "metadata": {
      "needs_background": "light"
     },
     "output_type": "display_data"
    }
   ],
   "source": [
    "## Constants\n",
    "Tmax = 2.0\n",
    "points = 1000\n",
    "accuracy = 1e-6\n",
    "\n",
    "## Set up lists for plotting\n",
    "y = []\n",
    "temp = np.linspace(0.01,Tmax,points)\n",
    "\n",
    "## Temperature loop\n",
    "for T in temp:\n",
    "    m1 = 1.0\n",
    "    error = 1.0\n",
    "    \n",
    "    ## Loop until desired error\n",
    "    while error>accuracy:\n",
    "        m1,m2 = math.tanh(m1/T),m1\n",
    "        error = abs((m1-m2)/(1-T*math.cosh(m2/T)**2))\n",
    "        \n",
    "    y.append(m1)\n",
    "    \n",
    "## Plot graph\n",
    "py.plot(temp,y)\n",
    "#py.ylim(-0.1,1.1)\n",
    "py.xlabel(\"Temperature\")\n",
    "py.ylabel(\"Magnetization\")\n",
    "py.show()"
   ]
  },
  {
   "cell_type": "markdown",
   "metadata": {},
   "source": [
    "# Ising Model"
   ]
  },
  {
   "cell_type": "code",
   "execution_count": 3,
   "metadata": {},
   "outputs": [],
   "source": [
    "import random\n",
    "import math"
   ]
  },
  {
   "cell_type": "code",
   "execution_count": 4,
   "metadata": {},
   "outputs": [],
   "source": [
    "def createLattice(rows, cols):\n",
    "    '''function that returns an array of dimensions rows by columns, \n",
    "    where each site in array is filled with integer 1'''\n",
    "    return np.ones((rows, cols))"
   ]
  },
  {
   "cell_type": "code",
   "execution_count": 31,
   "metadata": {},
   "outputs": [
    {
     "name": "stdout",
     "output_type": "stream",
     "text": [
      "[[1. 1. 1. 1.]\n",
      " [1. 1. 1. 1.]\n",
      " [1. 1. 1. 1.]\n",
      " [1. 1. 1. 1.]]\n"
     ]
    }
   ],
   "source": [
    "## create an array for testing and print array\n",
    "size = 4\n",
    "testSpinArray = createLattice(size,size)\n",
    "print(testSpinArray)"
   ]
  },
  {
   "cell_type": "code",
   "execution_count": 32,
   "metadata": {},
   "outputs": [],
   "source": [
    "def find_neighbors(spin_array, lattice, x, y):\n",
    "    left   = spin_array[(x, y - 1)]\n",
    "    right  = spin_array[(x, (y + 1) % lattice)]\n",
    "    top    = spin_array[(x - 1, y)]\n",
    "    bottom = spin_array[((x + 1) % lattice, y)]\n",
    "    \n",
    "    if x != 0:\n",
    "        top = 0\n",
    "    if y != 0:\n",
    "        left = 0\n",
    "    \n",
    "\n",
    "    return left+right+top+bottom"
   ]
  },
  {
   "cell_type": "code",
   "execution_count": 33,
   "metadata": {},
   "outputs": [],
   "source": [
    "## calculate energy of the lattice where all sites are spin up\n",
    "## energy should be 40 w/ size = 4, using nearest neighbors and treating the lattice as repeating\n",
    "def systemEnergy(spin_array, size):\n",
    "    sumEnergy = 0\n",
    "    for i in range(0,size):\n",
    "        for j in range(0,size):\n",
    "            energy = find_neighbors(spin_array, size,i,j)\n",
    "            print(\"location:\",i,j,\"energy:\",energy)\n",
    "            sumEnergy += energy\n",
    "    return sumEnergy"
   ]
  },
  {
   "cell_type": "code",
   "execution_count": 34,
   "metadata": {},
   "outputs": [
    {
     "name": "stdout",
     "output_type": "stream",
     "text": [
      "location: 0 0 energy: 4.0\n",
      "location: 0 1 energy: 3.0\n",
      "location: 0 2 energy: 3.0\n",
      "location: 0 3 energy: 3.0\n",
      "location: 1 0 energy: 3.0\n",
      "location: 1 1 energy: 2.0\n",
      "location: 1 2 energy: 2.0\n",
      "location: 1 3 energy: 2.0\n",
      "location: 2 0 energy: 3.0\n",
      "location: 2 1 energy: 2.0\n",
      "location: 2 2 energy: 2.0\n",
      "location: 2 3 energy: 2.0\n",
      "location: 3 0 energy: 3.0\n",
      "location: 3 1 energy: 2.0\n",
      "location: 3 2 energy: 2.0\n",
      "location: 3 3 energy: 2.0\n",
      "40.0\n"
     ]
    }
   ],
   "source": [
    "print(systemEnergy(testSpinArray,size))"
   ]
  },
  {
   "cell_type": "code",
   "execution_count": null,
   "metadata": {},
   "outputs": [],
   "source": []
  },
  {
   "cell_type": "code",
   "execution_count": null,
   "metadata": {},
   "outputs": [],
   "source": []
  }
 ],
 "metadata": {
  "kernelspec": {
   "display_name": "Python 3",
   "language": "python",
   "name": "python3"
  },
  "language_info": {
   "codemirror_mode": {
    "name": "ipython",
    "version": 3
   },
   "file_extension": ".py",
   "mimetype": "text/x-python",
   "name": "python",
   "nbconvert_exporter": "python",
   "pygments_lexer": "ipython3",
   "version": "3.7.4"
  }
 },
 "nbformat": 4,
 "nbformat_minor": 2
}
